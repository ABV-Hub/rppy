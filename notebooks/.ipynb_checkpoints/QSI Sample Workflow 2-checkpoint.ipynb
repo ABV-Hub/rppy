{
 "cells": [
  {
   "cell_type": "markdown",
   "metadata": {},
   "source": [
    "Quantitative Seismic Interpretation\n",
    "==================\n",
    "\n",
    "This notebook provides a step-by-step walkthrough of a reservoir characterization workflow based on an example dataset and problemset from Quantitative Seismic Interpretation (Avseth, Mukerji, Mavko, 2005).\n",
    "\n",
    "The dataset used is provided free of charge on the QSI website (). It consists of well log data from five wells, with six distinct lithofacies identified in Well 2, chosen as the type well. Alongside the well log data ia a seismic dataset containing on 2D section of NMO-corrected pre-stack CDP gathers and two 3D volumes - near and far offset partial stacks.\n",
    "\n",
    "Rock physics modeling\n",
    "----------------------"
   ]
  }
 ],
 "metadata": {
  "kernelspec": {
   "display_name": "Python 3",
   "language": "python",
   "name": "python3"
  },
  "language_info": {
   "codemirror_mode": {
    "name": "ipython",
    "version": 3
   },
   "file_extension": ".py",
   "mimetype": "text/x-python",
   "name": "python",
   "nbconvert_exporter": "python",
   "pygments_lexer": "ipython3",
   "version": "3.4.3"
  }
 },
 "nbformat": 4,
 "nbformat_minor": 0
}
