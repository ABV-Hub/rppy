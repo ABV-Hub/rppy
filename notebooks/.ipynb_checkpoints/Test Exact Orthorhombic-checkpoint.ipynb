{
 "cells": [
  {
   "cell_type": "code",
   "execution_count": 209,
   "metadata": {
    "collapsed": true
   },
   "outputs": [],
   "source": [
    "import numpy as np\n",
    "import rppy"
   ]
  },
  {
   "cell_type": "code",
   "execution_count": 210,
   "metadata": {
    "collapsed": false
   },
   "outputs": [],
   "source": [
    "def count_bicubic_roots(a, b, c, d):\n",
    "    D = 18*a*b*c*d - 4*b**3*d + b**2*c**2 - 4*a*c - 27*a**2*d**2\n",
    "    \n",
    "    if D > 0:\n",
    "        n = 3\n",
    "    elif D == 0:\n",
    "        n = 3\n",
    "    else:\n",
    "        n = 1\n",
    "\n",
    "def monoclinic_bicubic_coeffs(s1, s2, p, C):\n",
    "    c11 = C[0][0]\n",
    "    c22 = C[1][1]\n",
    "    c33 = C[2][2]\n",
    "    c44 = C[3][3]\n",
    "    c55 = C[4][4]\n",
    "    c66 = C[5][5]\n",
    "    c12 = C[0][1]\n",
    "    c13 = C[0][2]\n",
    "    c23 = C[1][2]\n",
    "    c16 = C[0][5]\n",
    "    c26 = C[1][5]\n",
    "    c36 = C[2][5]\n",
    "    c45 = C[3][4]\n",
    "    A = (c33*c44*c55 - c33*c45**2)\n",
    "    B = (c11*c33*c44*s1**2 - 2*c12*c33*c45*s1*s2 - c13**2*c44*s1**2 + 2*c13*c23*c45*s1*s2 - 2*c13*c36*c44*s1*s2 +\n",
    "         2*c13*c36*c45*s1**2 - 2*c13*c44*c55*s1**2 + 2*c13*c45**2*s1**2 + 2*c16*c33*c44*s1*s2 - 2*c16*c33*c45*s1**2 +\n",
    "         c22*c33*c55*s2**2 - c23**2*c55*s2**2 + 2*c23*c36*c45*s2**2 - 2*c23*c36*c55*s1*s2 - 2*c23*c44*c55*s2**2 +\n",
    "         2*c23*c45**2*s2**2 - 2*c26*c33*c45*s2**2 + 2*c26*c33*c55*s1*s2 + c33*c44*c66*s2**2 - 2*c33*c45*c66*s1*s2 +\n",
    "         c33*c55*c66*s1**2 - c36**2*c44*s2**2 + 2*c36**2*c45*s1*s2 - c36**2*c55*s1**2 - 4*c36*c44*c55*s1*s2 + 4*c36*c45**2*s1*s2)\n",
    "    C = (c11*c22*c33*s1**2*s2**2 - c11*c23**2*s1**2*s2**2 - 2*c11*c23*c36*s1**3*s2 - 2*c11*c23*c44*s1**2*s2**2 -\n",
    "         2*c11*c23*c45*s1**3*s2 + 2*c11*c26*c33*s1**3*s2 + c11*c33*c66*s1**4 - c11*c36**2*s1**4 - 2*c11*c36*c44*s1**3*s2 -\n",
    "         2*c11*c36*c45*s1**4 + c11*c44*c55*s1**4 - c11*c45**2*s1**4 - c12**2*c33*s1**2*s2**2 + 2*c12*c13*c23*s1**2*s2**2 +\n",
    "         2*c12*c13*c36*s1**3*s2 + 2*c12*c13*c44*s1**2*s2**2 + 2*c12*c13*c45*s1**3*s2 - 2*c12*c16*c33*s1**3*s2 +\n",
    "         2*c12*c23*c36*s1*s2**3 + 2*c12*c23*c45*s1*s2**3 + 2*c12*c23*c55*s1**2*s2**2 - 2*c12*c26*c33*s1*s2**3 -\n",
    "         2*c12*c33*c66*s1**2*s2**2 + 2*c12*c36**2*s1**2*s2**2 + 2*c12*c36*c44*s1*s2**3 + 4*c12*c36*c45*s1**2*s2**2 +\n",
    "         2*c12*c36*c55*s1**3*s2 + 2*c12*c44*c55*s1**2*s2**2 - 2*c12*c45**2*s1**2*s2**2 - c13**2*c22*s1**2*s2**2 -\n",
    "         2*c13**2*c26*s1**3*s2 - c13**2*c66*s1**4 + 2*c13*c16*c23*s1**3*s2 + 2*c13*c16*c36*s1**4 + 2*c13*c16*c44*s1**3*s2 +\n",
    "         2*c13*c16*c45*s1**4 - 2*c13*c22*c36*s1*s2**3 - 2*c13*c22*c45*s1*s2**3 - 2*c13*c22*c55*s1**2*s2**2 +\n",
    "         2*c13*c23*c26*s1*s2**3 + 2*c13*c23*c66*s1**2*s2**2 - 2*c13*c26*c36*s1**2*s2**2 + 2*c13*c26*c44*s1*s2**3 -\n",
    "         2*c13*c26*c45*s1**2*s2**2 - 4*c13*c26*c55*s1**3*s2 + 2*c13*c44*c66*s1**2*s2**2 - 2*c13*c55*c66*s1**4 -\n",
    "         c16**2*c33*s1**4 + 2*c16*c22*c33*s1*s2**3 - 2*c16*c23**2*s1*s2**3 - 2*c16*c23*c36*s1**2*s2**2 -\n",
    "         4*c16*c23*c44*s1*s2**3 - 2*c16*c23*c45*s1**2*s2**2 + 2*c16*c23*c55*s1**3*s2 + 2*c16*c26*c33*s1**2*s2**2 -\n",
    "         2*c16*c36*c44*s1**2*s2**2 + 2*c16*c36*c55*s1**4 + 4*c16*c44*c55*s1**3*s2 - 4*c16*c45**2*s1**3*s2 +\n",
    "         c22*c33*c66*s2**4 - c22*c36**2*s2**4 - 2*c22*c36*c45*s2**4 - 2*c22*c36*c55*s1*s2**3 + c22*c44*c55*s2**4 -\n",
    "         c22*c45**2*s2**4 - c23**2*c66*s2**4 + 2*c23*c26*c36*s2**4 + 2*c23*c26*c45*s2**4 + 2*c23*c26*c55*s1*s2**3 -\n",
    "         2*c23*c44*c66*s2**4 + 2*c23*c55*c66*s1**2*s2**2 - c26**2*c33*s2**4 + 2*c26*c36*c44*s2**4 -\n",
    "         2*c26*c36*c55*s1**2*s2**2 + 4*c26*c44*c55*s1*s2**3 - 4*c26*c45**2*s1*s2**3 + 4*c44*c55*c66*s1**2*s2**2 -\n",
    "         4*c45**2*c66*s1**2*s2**2)\n",
    "    D = (c11*c22*c44*s1**2*s2**4 + 2*c11*c22*c45*s1**3*s2**3 + c11*c22*c55*s1**4*s2**2 + 2*c11*c26*c44*s1**3*s2**3 +\n",
    "         4*c11*c26*c45*s1**4*s2**2 + 2*c11*c26*c55*s1**5*s2 + c11*c44*c66*s1**4*s2**2 + 2*c11*c45*c66*s1**5*s2 +\n",
    "         c11*c55*c66*s1**6 - c12**2*c44*s1**2*s2**4 - 2*c12**2*c45*s1**3*s2**3 - c12**2*c55*s1**4*s2**2 -\n",
    "         2*c12*c16*c44*s1**3*s2**3 - 4*c12*c16*c45*s1**4*s2**2 - 2*c12*c16*c55*s1**5*s2 - 2*c12*c26*c44*s1*s2**5 -\n",
    "         4*c12*c26*c45*s1**2*s2**4 - 2*c12*c26*c55*s1**3*s2**3 - 2*c12*c44*c66*s1**2*s2**4 - 4*c12*c45*c66*s1**3*s2**3 -\n",
    "         2*c12*c55*c66*s1**4*s2**2 - c16**2*c44*s1**4*s2**2 - 2*c16**2*c45*s1**5*s2 - c16**2*c55*s1**6 + 2*c16*c22*c44*s1*s2**5 +\n",
    "         4*c16*c22*c45*s1**2*s2**4 + 2*c16*c22*c55*s1**3*s2**3 + 2*c16*c26*c44*s1**2*s2**4 + 4*c16*c26*c45*s1**3*s2**3 +\n",
    "         2*c16*c26*c55*s1**4*s2**2 + c22*c44*c66*s2**6 + 2*c22*c45*c66*s1*s2**5 + c22*c55*c66*s1**2*s2**4 - c26**2*c44*s2**6 -\n",
    "         2*c26**2*c45*s1*s2**5 - c26**2*c55*s1**2*s2**4)\n",
    "    return(A, B, C, D)"
   ]
  },
  {
   "cell_type": "code",
   "execution_count": 211,
   "metadata": {
    "collapsed": false
   },
   "outputs": [],
   "source": [
    "phi = np.radians(30)\n",
    "theta = np.radians(40)\n",
    "\n",
    "p1 = 1400\n",
    "chi1 = 0\n",
    "C1 = np.zeros(shape=(6, 6))\n",
    "C1 = [[15.12e9, 5.29e9, 6.26e9, 0,      0,      0],\n",
    "      [5.29e9, 10.89e9, 6.46e9, 0,      0,      0],\n",
    "      [6.26e9,  6.46e9, 9.36e9, 0,      0,      0],\n",
    "      [0,       0,      0,      2.00e9, 0,      0],\n",
    "      [0,       0,      0,      0,      2.09e9, 0],\n",
    "      [0,       0,      0,      0,      0,      4.26e9]]\n",
    "C1 = np.asarray(C1)\n",
    "\n",
    "p2 = 1840\n",
    "chi2 = 0\n",
    "C2 = np.zeros(shape=(6, 6))\n",
    "C2 = [[28.52e9,  7.70e9,  6.00e9, 0,      0,      0],\n",
    "      [ 7.70e9, 15.21e9,  7.65e9, 0,      0,      0],\n",
    "      [ 6.00e9,  7.65e9, 10.65e9, 0,      0,      0],\n",
    "      [ 0,       0,       0,      2.23e9, 0,      0],\n",
    "      [ 0,       0,       0,      0,      2.41e9, 0],\n",
    "      [ 0,       0,       0,      0,      0,      5.71e9]]\n",
    "C2 = np.asarray(C2)"
   ]
  },
  {
   "cell_type": "code",
   "execution_count": 212,
   "metadata": {
    "collapsed": false
   },
   "outputs": [],
   "source": [
    "# Construct rotation matrices to properly align the\n",
    "# HTI porion of the orthorhombic anisotropy.\n",
    "schi = np.sin(chi1)\n",
    "cchi = np.cos(chi1)\n",
    "G1 = [[cchi**2, schi**2, 0, 0, 0, 2*cchi*schi],\n",
    "      [schi**2, cchi**2, 0, 0, 0, -2*schi*cchi],\n",
    "      [0, 0, 1, 0, 0, 0],\n",
    "      [0, 0, 0, cchi, -schi, 0],\n",
    "      [0, 0, 0, schi, cchi,  0],\n",
    "      [-cchi*schi, cchi*schi, 0, 0, 0, cchi**2 - schi**2]]\n",
    "G1 = np.asarray(G1)\n",
    "\n",
    "schi = np.sin(chi2)\n",
    "cchi = np.cos(chi2)\n",
    "G2 = np.zeros(shape=(6, 6))\n",
    "G2 = [[cchi**2, schi**2, 0, 0, 0, 2*cchi*schi],\n",
    "      [schi**2, cchi**2, 0, 0, 0, 2*schi*cchi],\n",
    "      [0, 0, 1, 0, 0, 0],\n",
    "      [0, 0, 0, cchi, -schi, 0],\n",
    "      [0, 0, 0, schi, cchi,  0],\n",
    "      [-cchi*schi, cchi*schi, 0, 0, 0, cchi**2 - schi**2]]\n",
    "G2 = np.asarray(G2)\n",
    "\n",
    "# Rotate stiffness matrices\n",
    "C1 = G1.dot(C1).dot(G1.T)\n",
    "C2 = G2.dot(C2).dot(G2.T)"
   ]
  },
  {
   "cell_type": "code",
   "execution_count": 213,
   "metadata": {
    "collapsed": false
   },
   "outputs": [],
   "source": [
    "# Construct Christoffel matrices in the velocity form as the first step\n",
    "# towards determining the phase velocity and phase polarization vectors\n",
    "# in the direction of propagation (that is, the slowness vector of the incident phase).\n",
    "\n",
    "# Propagation vector (directional, no velocity information)\n",
    "n = np.asarray([np.cos(phi)*np.sin(theta), np.sin(phi)*np.sin(theta), np.cos(theta)])\n",
    "\n",
    "L = np.zeros(shape=(3, 3))\n",
    "L = [[C1[0][0]*n[0]**2 + C1[5][5]*n[1]**2 + C1[4][4]*n[2]**2 + 2*C1[0][5]*n[0]*n[1],\n",
    "      C1[0][5]*n[0]**2 + C1[1][5]*n[1]**2 + C1[3][4]*n[2]**2 + (C1[0][1]+C1[5][5])*n[0]*n[1],\n",
    "      (C1[0][2]+C1[4][4])*n[0]*n[2] + (C1[2][5]+C1[3][4])*n[1]*n[2]],\n",
    "     [C1[0][5]*n[0]**2 + C1[1][5]*n[1]**2 + C1[3][4]*n[2]**2 + (C1[0][1]+C1[5][5])*n[0]*n[1],\n",
    "      C1[5][5]*n[0]**2 + C1[1][1]*n[1]**2 + C1[3][3]*n[2]**2 + 2*C1[1][5]*n[0]*n[1],\n",
    "      (C1[2][5]+C1[3][4])*n[0]*n[2] + (C1[1][2]+C1[3][3])*n[1]*n[2]],\n",
    "     [(C1[0][2]+C1[4][4])*n[0]*n[2] + (C1[2][5]+C1[3][4])*n[1]*n[2],\n",
    "      (C1[2][5]+C1[3][4])*n[0]*n[2] + (C1[1][2]+C1[3][3])*n[1]*n[2],\n",
    "      C1[4][4]*n[0]**2 + C1[3][3]*n[1]**2+C1[2][2]*n[2]**2]]\n",
    "L = np.asarray(L) / p1\n",
    "\n",
    "# Compute eigenvectors and eigenvalues of Christoffel matrices.\n",
    "w, v = np.linalg.eig(L)\n",
    "\n",
    "vp1 = np.sqrt(np.max(w)) # quasi-P velocity of the upper medium, in the direction of propagation.\n",
    "\n",
    "s = n / vp1 # Slowness vector using derived quasi-P velocity."
   ]
  },
  {
   "cell_type": "code",
   "execution_count": 214,
   "metadata": {
    "collapsed": false
   },
   "outputs": [
    {
     "name": "stdout",
     "output_type": "stream",
     "text": [
      "3.91248e+28 1.139234508e+22 9.16862487566e+14 17405326.548\n",
      "None\n"
     ]
    }
   ],
   "source": [
    "# Determine the roots of the bicubic function, and using these roots,\n",
    "# compute the slowness vectors for the reflected and transmitted phases\n",
    "\n",
    "# Compute the coefficients of the bicubic equation from the stiffness\n",
    "# matrix of the upper layer, density, and the two horizontal components\n",
    "# of slowness.\n",
    "A, B, C, D = monoclinic_bicubic_coeffs(s[0], s[1], p1, C1)\n",
    "if count_bicubic_roots(A, B, C, D) < 0:\n",
    "    print(\"Non-real roots!\")\n",
    "    break\n",
    "\n",
    "# Input the computed coefficients and solve the bicubic polynomial\n",
    "z = np.roots(np.array([A, 0, B, 0, C, 0, D]))"
   ]
  }
 ],
 "metadata": {
  "kernelspec": {
   "display_name": "Python 3",
   "language": "python",
   "name": "python3"
  },
  "language_info": {
   "codemirror_mode": {
    "name": "ipython",
    "version": 3
   },
   "file_extension": ".py",
   "mimetype": "text/x-python",
   "name": "python",
   "nbconvert_exporter": "python",
   "pygments_lexer": "ipython3",
   "version": "3.4.3"
  }
 },
 "nbformat": 4,
 "nbformat_minor": 0
}
