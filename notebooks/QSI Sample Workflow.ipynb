{
 "cells": [
  {
   "cell_type": "markdown",
   "metadata": {},
   "source": [
    "Quantitative Seismic Interpretation\n",
    "==================\n",
    "\n",
    "This notebook provides a step-by-step walkthrough of a reservoir characterization workflow based on an example data-set and problem-set from Quantitative Seismic Interpretation (Avseth, Mukerji, Mavko, 2005).\n",
    "\n",
    "The dataset used is provided free of charge on the QSI website (link). It consists of well log data from five wells, with six distinct lithofacies identified in Well 2, chosen as the type well. Alongside the well log data ia a seismic dataset containing on 2D section of NMO-corrected pre-stack CDP gathers and two 3D volumes - near and far offset partial stacks.\n",
    "\n",
    "Rock physics modeling\n",
    "----------------------\n",
    "\n",
    "First off, we'll need to load the Well 2 data. The LAS file contains both P and S velocity, density, and gamma ray curves. We'll use the LASReader from SciPy recipes (link)"
   ]
  },
  {
   "cell_type": "code",
   "execution_count": null,
   "metadata": {
    "collapsed": false
   },
   "outputs": [],
   "source": [
    "%matplotlib inline\n",
    "from rppy import las\n",
    "import rppy\n",
    "from matplotlib import pyplot as plt\n",
    "import numpy as np\n",
    "from matplotlib.ticker import AutoMinorLocator\n",
    "\n",
    "well2 = las.LASReader(\"data/well_2.las\", null_subs=np.nan)"
   ]
  },
  {
   "cell_type": "markdown",
   "metadata": {},
   "source": [
    "First things first, let's take a look at our well logs. Most of the code below isn't necessary just to get a quick look, but it makes the plots nice and pretty."
   ]
  },
  {
   "cell_type": "code",
   "execution_count": null,
   "metadata": {
    "collapsed": false
   },
   "outputs": [],
   "source": [
    "plt.figure(1)\n",
    "plt.suptitle(\"Well #2 Log Suite\")\n",
    "\n",
    "plt.subplot(1, 3, 1)\n",
    "plt.plot(well2.data['GR'], well2.data['DEPT'], 'g')\n",
    "plt.ylim(2000, 2600)\n",
    "plt.title('Gamma')\n",
    "plt.xlim(20, 120)\n",
    "plt.gca().set_xticks([20, 120])\n",
    "plt.gca().xaxis.grid(True, which=\"minor\")\n",
    "minorLoc = AutoMinorLocator(6)\n",
    "plt.gca().xaxis.set_minor_locator(minorLoc)\n",
    "plt.gca().invert_yaxis()\n",
    "plt.ylabel(\"Depth [m]\")\n",
    "plt.gca().set_yticks([2100, 2200, 2300, 2400, 2500])\n",
    "\n",
    "plt.subplot(1, 3, 2)\n",
    "plt.plot(well2.data['RHOB'], well2.data['DEPT'], 'b')\n",
    "plt.ylim(2000, 2600)\n",
    "plt.title('Density')\n",
    "plt.xlim(1.65, 2.65)\n",
    "plt.gca().set_xticks([1.65, 2.65])\n",
    "plt.gca().xaxis.grid(True, which=\"minor\")\n",
    "minorLoc = AutoMinorLocator(6)\n",
    "plt.gca().xaxis.set_minor_locator(minorLoc)\n",
    "plt.gca().invert_yaxis()\n",
    "plt.gca().axes.get_yaxis().set_ticks([])\n",
    "\n",
    "plt.subplot(1, 3, 3)\n",
    "plt.plot(well2.data['Vp'], well2.data['DEPT'], 'b')\n",
    "plt.ylim(2000, 2600)\n",
    "plt.title('VP')\n",
    "plt.xlim(0.5, 4.5)\n",
    "plt.gca().set_xticks([0.5, 4.5])\n",
    "plt.gca().xaxis.grid(True, which=\"minor\")\n",
    "minorLoc = AutoMinorLocator(6)\n",
    "plt.gca().xaxis.set_minor_locator(minorLoc)\n",
    "plt.gca().invert_yaxis()\n",
    "plt.gca().axes.get_yaxis().set_ticks([])\n",
    "\n",
    "plt.plot(well2.data['Vs'], well2.data['DEPT'], 'r')\n",
    "plt.ylim(2000, 2600)\n",
    "plt.title('Velocity')\n",
    "plt.xlim(0.5, 4.5)\n",
    "plt.gca().set_xticks([0.5, 4.5])\n",
    "plt.gca().xaxis.grid(True, which=\"minor\")\n",
    "minorLoc = AutoMinorLocator(6)\n",
    "plt.gca().xaxis.set_minor_locator(minorLoc)\n",
    "plt.gca().invert_yaxis()\n",
    "plt.gca().axes.get_yaxis().set_ticks([])\n",
    "plt.show()"
   ]
  },
  {
   "cell_type": "markdown",
   "metadata": {},
   "source": [
    "Now, we'll derive a porosity curve from the bulk density assuming a uniform grain density of 2.65 g/cm^3 and a fluid density of 1.05 g/cm^3."
   ]
  },
  {
   "cell_type": "code",
   "execution_count": null,
   "metadata": {
    "collapsed": false
   },
   "outputs": [],
   "source": [
    "phi = (well2.data['RHOB'] - 2.65)/(1.05 - 2.65)"
   ]
  },
  {
   "cell_type": "markdown",
   "metadata": {},
   "source": [
    "Let's take a look at our porosity curve and sanity-check it."
   ]
  },
  {
   "cell_type": "code",
   "execution_count": null,
   "metadata": {
    "collapsed": false
   },
   "outputs": [],
   "source": [
    "plt.figure(2)\n",
    "\n",
    "plt.subplot(1, 3, 1)\n",
    "plt.plot(phi, well2.data['DEPT'], 'k')\n",
    "plt.ylim(2000, 2600)\n",
    "plt.title('Porosity')\n",
    "plt.xlim(0, 0.6)\n",
    "plt.gca().set_xticks([0, 0.6])\n",
    "plt.gca().xaxis.grid(True, which=\"minor\")\n",
    "minorLoc = AutoMinorLocator(6)\n",
    "plt.gca().xaxis.set_minor_locator(minorLoc)\n",
    "plt.gca().invert_yaxis()\n",
    "plt.ylabel(\"Depth [m]\")\n",
    "plt.gca().set_yticks([2100, 2200, 2300, 2400, 2500])\n",
    "plt.show()"
   ]
  },
  {
   "cell_type": "markdown",
   "metadata": {},
   "source": [
    "Looks plausible, no values above 0.6, average porosity hovering around or below 30%. Now let's start looking at log relationships. We'll create a crossplot of Vp vs. Porosity for well 2, and colour it by gamma as a quick-look lithology indicator."
   ]
  },
  {
   "cell_type": "code",
   "execution_count": null,
   "metadata": {
    "collapsed": false
   },
   "outputs": [],
   "source": [
    "plt.figure(3)\n",
    "fig, ax = plt.subplots()\n",
    "im = plt.scatter(phi, well2.data[\"Vp\"], s=20, c=well2.data[\"GR\"], alpha=0.5)\n",
    "plt.xlabel('POROSITY')\n",
    "plt.ylabel('VP')\n",
    "plt.xlim([0, 0.6])\n",
    "plt.ylim([1, 5])\n",
    "plt.clim([50, 100])\n",
    "cbar = fig.colorbar(im, ax=ax)\n",
    "plt.show()"
   ]
  },
  {
   "cell_type": "markdown",
   "metadata": {},
   "source": [
    "We'll now compute the Hashin-Shtrikman upper and lower bounds, and add them to our crossplot. In order to do this, we'll need to make some assumptions about the composition of the rock. We'll assume a solid quartz matrix, with a bulk modulus K=37 GPa and a shear modulus u=44 GPa. For the fluid phase we'll begin by using water-filled porosity, by assuming a fluid bulk modulus K=2.25 GPa, shear modulus u=0 GPa."
   ]
  },
  {
   "cell_type": "code",
   "execution_count": null,
   "metadata": {
    "collapsed": false
   },
   "outputs": [],
   "source": [
    "phi_2 = np.arange(0, 1, 0.001)\n",
    "Ku = np.empty(np.shape(phi_2))\n",
    "Kl = np.empty(np.shape(phi_2))\n",
    "uu = np.empty(np.shape(phi_2))\n",
    "ul = np.empty(np.shape(phi_2))\n",
    "Vpu = np.empty(np.shape(phi_2))\n",
    "Vpl = np.empty(np.shape(phi_2))\n",
    "\n",
    "K = np.array([37., 2.25])\n",
    "u = np.array([44., 0.001])\n",
    "for n in np.arange(0, len(phi_2)):\n",
    "    Ku[n], Kl[n], uu[n], ul[n] = rppy.media.hashin_shtrikman(K, u, np.array([1-phi_2[n], phi_2[n]]))\n",
    "    Vpu[n] = rppy.moduli.Vp(2.65, K=Ku[n], u=uu[n])\n",
    "    Vpl[n] = rppy.moduli.Vp(2.65, K=Kl[n], u=ul[n])\n",
    "\n",
    "Vp, Vs = rppy.media.han_eberhart_phillips(phi, 0.1, 40)\n",
    "\n",
    "plt.figure(4)\n",
    "fig, ax = plt.subplots()\n",
    "im = plt.scatter(phi, well2.data[\"Vp\"], s=20, c=well2.data[\"GR\"], alpha=0.5)\n",
    "plt.xlabel('POROSITY')\n",
    "plt.ylabel('VP')\n",
    "plt.xlim([0, 1])\n",
    "plt.ylim([0, 6])\n",
    "plt.clim([50, 100])\n",
    "cbar = fig.colorbar(im, ax=ax)\n",
    "plt.plot(phi_2, Vpu, 'k')\n",
    "plt.plot(phi_2, Vpl, 'k')\n",
    "plt.plot(phi, Vp, '-k')\n",
    "plt.show()"
   ]
  },
  {
   "cell_type": "code",
   "execution_count": null,
   "metadata": {
    "collapsed": false
   },
   "outputs": [],
   "source": []
  }
 ],
 "metadata": {
  "kernelspec": {
   "display_name": "Python 3",
   "language": "python",
   "name": "python3"
  },
  "language_info": {
   "codemirror_mode": {
    "name": "ipython",
    "version": 3
   },
   "file_extension": ".py",
   "mimetype": "text/x-python",
   "name": "python",
   "nbconvert_exporter": "python",
   "pygments_lexer": "ipython3",
   "version": "3.4.3"
  }
 },
 "nbformat": 4,
 "nbformat_minor": 0
}
