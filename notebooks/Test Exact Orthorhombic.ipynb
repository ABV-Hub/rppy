{
 "cells": [
  {
   "cell_type": "code",
   "execution_count": 1642,
   "metadata": {
    "collapsed": false
   },
   "outputs": [],
   "source": [
    "import numpy as np\n",
    "from numpy.linalg import inv\n",
    "import rppy\n",
    "\n",
    "np.set_printoptions(precision=8)"
   ]
  },
  {
   "cell_type": "code",
   "execution_count": 1643,
   "metadata": {
    "collapsed": false
   },
   "outputs": [],
   "source": [
    "def monoclinic_bicubic_coeffs(s1, s2, p, C):\n",
    "    c11 = C[0][0]\n",
    "    c22 = C[1][1]\n",
    "    c33 = C[2][2]\n",
    "    c44 = C[3][3]\n",
    "    c55 = C[4][4]\n",
    "    c66 = C[5][5]\n",
    "    c12 = C[0][1]\n",
    "    c13 = C[0][2]\n",
    "    c23 = C[1][2]\n",
    "    c16 = C[0][5]\n",
    "    c26 = C[1][5]\n",
    "    c36 = C[2][5]\n",
    "    c45 = C[3][4]\n",
    "    A = (c33*c44*c55 - c33*c45**2)\n",
    "    B = (c11*c33*c44*s1**2 - 2*c12*c33*c45*s1*s2 - c13**2*c44*s1**2 + \n",
    "         2*c13*c23*c45*s1*s2 - 2*c13*c36*c44*s1*s2 + 2*c13*c36*c45*s1**2 - \n",
    "         2*c13*c44*c55*s1**2 + 2*c13*c45**2*s1**2 + 2*c16*c33*c44*s1*s2 - \n",
    "         2*c16*c33*c45*s1**2 + c22*c33*c55*s2**2 - c23**2*c55*s2**2 + \n",
    "         2*c23*c36*c45*s2**2 - 2*c23*c36*c55*s1*s2 - 2*c23*c44*c55*s2**2 + \n",
    "         2*c23*c45**2*s2**2 - 2*c26*c33*c45*s2**2 + 2*c26*c33*c55*s1*s2 + \n",
    "         c33*c44*c66*s2**2 - c33*c44*p - 2*c33*c45*c66*s1*s2 + \n",
    "         c33*c55*c66*s1**2 - c33*c55*p - c36**2*c44*s2**2 + \n",
    "         2*c36**2*c45*s1*s2 - c36**2*c55*s1**2 - 4*c36*c44*c55*s1*s2 + \n",
    "         4*c36*c45**2*s1*s2 - c44*c55*p + c45**2*p)\n",
    "    C = (c11*c22*c33*s1**2*s2**2 - c11*c23**2*s1**2*s2**2 - 2*c11*c23*c36*s1**3*s2 - \n",
    "         2*c11*c23*c44*s1**2*s2**2 - 2*c11*c23*c45*s1**3*s2 + 2*c11*c26*c33*s1**3*s2 + \n",
    "         c11*c33*c66*s1**4 - c11*c33*p*s1**2 - c11*c36**2*s1**4 - \n",
    "         2*c11*c36*c44*s1**3*s2 - 2*c11*c36*c45*s1**4 + c11*c44*c55*s1**4 - \n",
    "         c11*c44*p*s1**2 - c11*c45**2*s1**4 - c12**2*c33*s1**2*s2**2 + \n",
    "         2*c12*c13*c23*s1**2*s2**2 + 2*c12*c13*c36*s1**3*s2 + 2*c12*c13*c44*s1**2*s2**2 + \n",
    "         2*c12*c13*c45*s1**3*s2 - 2*c12*c16*c33*s1**3*s2 + 2*c12*c23*c36*s1*s2**3 + \n",
    "         2*c12*c23*c45*s1*s2**3 + 2*c12*c23*c55*s1**2*s2**2 - 2*c12*c26*c33*s1*s2**3 - \n",
    "         2*c12*c33*c66*s1**2*s2**2 + 2*c12*c36**2*s1**2*s2**2 + 2*c12*c36*c44*s1*s2**3 + \n",
    "         4*c12*c36*c45*s1**2*s2**2 + 2*c12*c36*c55*s1**3*s2 + 2*c12*c44*c55*s1**2*s2**2 - \n",
    "         2*c12*c45**2*s1**2*s2**2 + 2*c12*c45*p*s1*s2 - c13**2*c22*s1**2*s2**2 - \n",
    "         2*c13**2*c26*s1**3*s2 - c13**2*c66*s1**4 + c13**2*p*s1**2 + \n",
    "         2*c13*c16*c23*s1**3*s2 + 2*c13*c16*c36*s1**4 + 2*c13*c16*c44*s1**3*s2 + \n",
    "         2*c13*c16*c45*s1**4 - 2*c13*c22*c36*s1*s2**3 - 2*c13*c22*c45*s1*s2**3 - \n",
    "         2*c13*c22*c55*s1**2*s2**2 + 2*c13*c23*c26*s1*s2**3 + 2*c13*c23*c66*s1**2*s2**2 - \n",
    "         2*c13*c26*c36*s1**2*s2**2 + 2*c13*c26*c44*s1*s2**3 - 2*c13*c26*c45*s1**2*s2**2 - \n",
    "         4*c13*c26*c55*s1**3*s2 + 2*c13*c36*p*s1*s2 + 2*c13*c44*c66*s1**2*s2**2 + \n",
    "         2*c13*c45*p*s1*s2 - 2*c13*c55*c66*s1**4 + 2*c13*c55*p*s1**2 - \n",
    "         c16**2*c33*s1**4 + 2*c16*c22*c33*s1*s2**3 - 2*c16*c23**2*s1*s2**3 - \n",
    "         2*c16*c23*c36*s1**2*s2**2 - 4*c16*c23*c44*s1*s2**3 - 2*c16*c23*c45*s1**2*s2**2 + \n",
    "         2*c16*c23*c55*s1**3*s2 + 2*c16*c26*c33*s1**2*s2**2 - 2*c16*c33*p*s1*s2 - \n",
    "         2*c16*c36*c44*s1**2*s2**2 + 2*c16*c36*c55*s1**4 + 4*c16*c44*c55*s1**3*s2 - \n",
    "         2*c16*c44*p*s1*s2 - 4*c16*c45**2*s1**3*s2 + 2*c16*c45*p*s1**2 + \n",
    "         c22*c33*c66*s2**4 - c22*c33*p*s2**2 - c22*c36**2*s2**4 - \n",
    "         2*c22*c36*c45*s2**4 - 2*c22*c36*c55*s1*s2**3 + c22*c44*c55*s2**4 - \n",
    "         c22*c45**2*s2**4 - c22*c55*p*s2**2 - c23**2*c66*s2**4 + \n",
    "         c23**2*p*s2**2 + 2*c23*c26*c36*s2**4 + 2*c23*c26*c45*s2**4 + \n",
    "         2*c23*c26*c55*s1*s2**3 + 2*c23*c36*p*s1*s2 - 2*c23*c44*c66*s2**4 + \n",
    "         2*c23*c44*p*s2**2 + 2*c23*c45*p*s1*s2 + 2*c23*c55*c66*s1**2*s2**2 - \n",
    "         c26**2*c33*s2**4 - 2*c26*c33*p*s1*s2 + 2*c26*c36*c44*s2**4 - \n",
    "         2*c26*c36*c55*s1**2*s2**2 + 4*c26*c44*c55*s1*s2**3 - 4*c26*c45**2*s1*s2**3 + \n",
    "         2*c26*c45*p*s2**2 - 2*c26*c55*p*s1*s2 - c33*c66*p*s1**2 - \n",
    "         c33*c66*p*s2**2 + c33*p**2 + c36**2*p*s1**2 + \n",
    "         c36**2*p*s2**2 + 2*c36*c44*p*s1*s2 + 2*c36*c45*p*s1**2 + \n",
    "         2*c36*c45*p*s2**2 + 2*c36*c55*p*s1*s2 + 4*c44*c55*c66*s1**2*s2**2 - \n",
    "         c44*c55*p*s1**2 - c44*c55*p*s2**2 - c44*c66*p*s2**2 + \n",
    "         c44*p**2 - 4*c45**2*c66*s1**2*s2**2 + c45**2*p*s1**2 + \n",
    "         c45**2*p*s2**2 + 2*c45*c66*p*s1*s2 - c55*c66*p*s1**2 + c55*p**2)\n",
    "    D = (c11*c22*c44*s1**2*s2**4 + 2*c11*c22*c45*s1**3*s2**3 + c11*c22*c55*s1**4*s2**2 -\n",
    "         c11*c22*p*s1**2*s2**2 + 2*c11*c26*c44*s1**3*s2**3 + 4*c11*c26*c45*s1**4*s2**2 +\n",
    "         2*c11*c26*c55*s1**5*s2 - 2*c11*c26*p*s1**3*s2 + c11*c44*c66*s1**4*s2**2 -\n",
    "         c11*c44*p*s1**2*s2**2 + 2*c11*c45*c66*s1**5*s2 - 2*c11*c45*p*s1**3*s2 +\n",
    "         c11*c55*c66*s1**6 - c11*c55*p*s1**4 - c11*c66*p*s1**4 +\n",
    "         c11*p**2*s1**2 - c12**2*c44*s1**2*s2**4 - 2*c12**2*c45*s1**3*s2**3 -\n",
    "         c12**2*c55*s1**4*s2**2 + c12**2*p*s1**2*s2**2 - 2*c12*c16*c44*s1**3*s2**3 -\n",
    "         4*c12*c16*c45*s1**4*s2**2 - 2*c12*c16*c55*s1**5*s2 + 2*c12*c16*p*s1**3*s2 -\n",
    "         2*c12*c26*c44*s1*s2**5 - 4*c12*c26*c45*s1**2*s2**4 - 2*c12*c26*c55*s1**3*s2**3 +\n",
    "         2*c12*c26*p*s1*s2**3 - 2*c12*c44*c66*s1**2*s2**4 - 4*c12*c45*c66*s1**3*s2**3 -\n",
    "         2*c12*c55*c66*s1**4*s2**2 + 2*c12*c66*p*s1**2*s2**2 - c16**2*c44*s1**4*s2**2 -\n",
    "         2*c16**2*c45*s1**5*s2 - c16**2*c55*s1**6 + c16**2*p*s1**4 +\n",
    "         2*c16*c22*c44*s1*s2**5 + 4*c16*c22*c45*s1**2*s2**4 + 2*c16*c22*c55*s1**3*s2**3 -\n",
    "         2*c16*c22*p*s1*s2**3 + 2*c16*c26*c44*s1**2*s2**4 + 4*c16*c26*c45*s1**3*s2**3 +\n",
    "         2*c16*c26*c55*s1**4*s2**2 - 2*c16*c26*p*s1**2*s2**2 - 2*c16*c44*p*s1*s2**3 -\n",
    "         4*c16*c45*p*s1**2*s2**2 - 2*c16*c55*p*s1**3*s2 + 2*c16*p**2*s1*s2 +\n",
    "         c22*c44*c66*s2**6 - c22*c44*p*s2**4 + 2*c22*c45*c66*s1*s2**5 -\n",
    "         2*c22*c45*p*s1*s2**3 + c22*c55*c66*s1**2*s2**4 - c22*c55*p*s1**2*s2**2 -\n",
    "         c22*c66*p*s2**4 + c22*p**2*s2**2 - c26**2*c44*s2**6 -\n",
    "         2*c26**2*c45*s1*s2**5 - c26**2*c55*s1**2*s2**4 + c26**2*p*s2**4 -\n",
    "         2*c26*c44*p*s1*s2**3 - 4*c26*c45*p*s1**2*s2**2 - 2*c26*c55*p*s1**3*s2 +\n",
    "         2*c26*p**2*s1*s2 - c44*c66*p*s1**2*s2**2 - c44*c66*p*s2**4 +\n",
    "         c44*p**2*s2**2 - 2*c45*c66*p*s1**3*s2 - 2*c45*c66*p*s1*s2**3 +\n",
    "         2*c45*p**2*s1*s2 - c55*c66*p*s1**4 - c55*c66*p*s1**2*s2**2 +\n",
    "         c55*p**2*s1**2 + c66*p**2*s1**2 + c66*p**2*s2**2 - p**3)\n",
    "    return(A, B, C, D)\n",
    "\n",
    "def christoffel(C, s):\n",
    "    CM = np.zeros(shape=(3, 3))\n",
    "    CM[0][0] = C[0][0]*s[0]**2 + C[5][5]*s[1]**2 + C[4][4]*s[2]**2 + 2*C[0][5]*s[0]*s[1]\n",
    "    CM[0][1] = C[0][5]*s[0]**2 + C[1][5]*s[1]**2 + C[3][4]*s[2]**2 + (C[0][1]+C[5][5])*s[0]*s[1]\n",
    "    CM[0][2] = (C[0][2]+C[4][4])*s[0]*s[2] + (C[2][5]+C[3][4])*s[1]*s[2]\n",
    "    CM[1][0] = C[0][5]*s[0]**2 + C[1][5]*s[1]**2 + C[3][4]*s[2]**2 + (C[0][1]+C[5][5])*s[0]*s[1]\n",
    "    CM[1][1] = C[5][5]*s[0]**2 + C[1][1]*s[1]**2 + C[3][3]*s[2]**2 + 2*C[1][5]*s[0]*s[1]\n",
    "    CM[1][2] = (C[2][5]+C[3][4])*s[0]*s[2] + (C[1][2]+C[3][3])*s[1]*s[2]\n",
    "    CM[2][0] = (C[0][2]+C[4][4])*s[0]*s[2] + (C[2][5]+C[3][4])*s[1]*s[2]\n",
    "    CM[2][1] = (C[2][5]+C[3][4])*s[0]*s[2] + (C[3][3]+C[1][2])*s[1]*s[2]\n",
    "    CM[2][2] = C[4][4]*s[0]**2 + C[3][3]*s[1]**2+C[2][2]*s[2]**2 + 2*C[3][4]*s[0]*s[1]\n",
    "\n",
    "    return(CM)"
   ]
  },
  {
   "cell_type": "code",
   "execution_count": 1644,
   "metadata": {
    "collapsed": false
   },
   "outputs": [],
   "source": [
    "phi = np.radians(30)\n",
    "theta = np.radians(40)\n",
    "\n",
    "p1 = 1400\n",
    "chi1 = 0\n",
    "C1 = np.zeros(shape=(6, 6))\n",
    "C1 = [[15.12e9, 5.29e9, 6.26e9, 0,      0,      0],\n",
    "      [5.29e9, 10.89e9, 6.46e9, 0,      0,      0],\n",
    "      [6.26e9,  6.46e9, 9.36e9, 0,      0,      0],\n",
    "      [0,       0,      0,      2.00e9, 0,      0],\n",
    "      [0,       0,      0,      0,      2.09e9, 0],\n",
    "      [0,       0,      0,      0,      0,      4.26e9]]\n",
    "\n",
    "p2 = 1840\n",
    "chi2 = 0\n",
    "C2 = np.zeros(shape=(6, 6))\n",
    "C2 = [[28.52e9,  7.70e9,  6.00e9, 0,      0,      0],\n",
    "      [ 7.70e9, 15.21e9,  7.65e9, 0,      0,      0],\n",
    "      [ 6.00e9,  7.65e9, 10.65e9, 0,      0,      0],\n",
    "      [ 0,       0,       0,      2.23e9, 0,      0],\n",
    "      [ 0,       0,       0,      0,      2.41e9, 0],\n",
    "      [ 0,       0,       0,      0,      0,      5.71e9]]"
   ]
  },
  {
   "cell_type": "code",
   "execution_count": 1645,
   "metadata": {
    "collapsed": false
   },
   "outputs": [
    {
     "name": "stdout",
     "output_type": "stream",
     "text": [
      "Rotation Matrix G1\n",
      "[[ 1.  0.  0.  0.  0.  0.]\n",
      " [ 0.  1.  0.  0.  0. -0.]\n",
      " [ 0.  0.  1.  0.  0.  0.]\n",
      " [ 0.  0.  0.  1. -0.  0.]\n",
      " [ 0.  0.  0.  0.  1.  0.]\n",
      " [-0.  0.  0.  0.  0.  1.]]\n",
      "Rotated Stiffness Matrix C1\n",
      "[[  1.51200000e+10   5.29000000e+09   6.26000000e+09   0.00000000e+00\n",
      "    0.00000000e+00   0.00000000e+00]\n",
      " [  5.29000000e+09   1.08900000e+10   6.46000000e+09   0.00000000e+00\n",
      "    0.00000000e+00   0.00000000e+00]\n",
      " [  6.26000000e+09   6.46000000e+09   9.36000000e+09   0.00000000e+00\n",
      "    0.00000000e+00   0.00000000e+00]\n",
      " [  0.00000000e+00   0.00000000e+00   0.00000000e+00   2.00000000e+09\n",
      "    0.00000000e+00   0.00000000e+00]\n",
      " [  0.00000000e+00   0.00000000e+00   0.00000000e+00   0.00000000e+00\n",
      "    2.09000000e+09   0.00000000e+00]\n",
      " [  0.00000000e+00   0.00000000e+00   0.00000000e+00   0.00000000e+00\n",
      "    0.00000000e+00   4.26000000e+09]]\n"
     ]
    }
   ],
   "source": [
    "# Construct rotation matrices to properly align the\n",
    "# HTI porion of the orthorhombic anisotropy.\n",
    "schi = np.sin(chi1)\n",
    "cchi = np.cos(chi1)\n",
    "G1 = [[cchi**2, schi**2, 0, 0, 0, 2*cchi*schi],\n",
    "               [schi**2, cchi**2, 0, 0, 0, -2*schi*cchi],\n",
    "               [0, 0, 1, 0, 0, 0],\n",
    "               [0, 0, 0, cchi, -schi, 0],\n",
    "               [0, 0, 0, schi, cchi,  0],\n",
    "               [-cchi*schi, cchi*schi, 0, 0, 0, cchi**2 - schi**2]]\n",
    "G1 = np.asarray(G1)\n",
    "\n",
    "schi = np.sin(chi2)\n",
    "cchi = np.cos(chi2)\n",
    "G2 = np.zeros(shape=(6, 6))\n",
    "G2 = [[cchi**2, schi**2, 0, 0, 0, 2*cchi*schi],\n",
    "      [schi**2, cchi**2, 0, 0, 0, 2*schi*cchi],\n",
    "      [0, 0, 1, 0, 0, 0],\n",
    "      [0, 0, 0, cchi, -schi, 0],\n",
    "      [0, 0, 0, schi, cchi,  0],\n",
    "      [-cchi*schi, cchi*schi, 0, 0, 0, cchi**2 - schi**2]]\n",
    "G2 = np.asarray(G2)\n",
    "\n",
    "# Rotate stiffness matrices\n",
    "C1 = G1.dot(C1).dot(G1.T)\n",
    "C2 = G2.dot(C2).dot(G2.T)\n",
    "\n",
    "##### QC Output\n",
    "print('Rotation Matrix G1')\n",
    "print(G1)\n",
    "print('Rotated Stiffness Matrix C1')\n",
    "print(C1)"
   ]
  },
  {
   "cell_type": "code",
   "execution_count": 1646,
   "metadata": {
    "collapsed": false,
    "scrolled": true
   },
   "outputs": [
    {
     "name": "stdout",
     "output_type": "stream",
     "text": [
      "n1 [ 0.5566704   0.3213938   0.76604444]\n",
      "L [[ 4537078.23120201  1220424.63469076  2543375.80064389]\n",
      " [ 1220424.63469076  2584726.16571064  1487763.14115773]\n",
      " [ 2543375.80064389  1487763.14115773  4533510.47701289]]\n",
      "vp1 2790.10567532\n",
      "s [ 0.00019952  0.00011519  0.00027456]\n"
     ]
    }
   ],
   "source": [
    "########################################\n",
    "# SLOWNESS VECTOR OF THE INCIDENT WAVE\n",
    "########################################\n",
    "\n",
    "# Construct Christoffel matrices in the velocity form as the first step\n",
    "# towards determining the phase velocity and phase polarization vectors\n",
    "# in the direction of propagation (that is, the slowness vector of the incident phase).\n",
    "\n",
    "# Propagation vector (directional, no velocity information)\n",
    "n = np.array([np.cos(phi)*np.sin(theta), np.sin(phi)*np.sin(theta), np.cos(theta)])\n",
    "\n",
    "# Construct Christoffel matrix \n",
    "L = christoffel(C1, n)\n",
    "\n",
    "# Compute eigenvectors and eigenvalues of Christoffel matrix.\n",
    "w, v = np.linalg.eig(L/p1)\n",
    "\n",
    "vp1 = np.sqrt(np.max(w)) # quasi-P velocity of the upper medium, in the direction of propagation.\n",
    "s = n / vp1 # Slowness vector using derived quasi-P velocity.\n",
    "\n",
    "##### QC Output\n",
    "print('n1', n)\n",
    "print('L', L/p1)\n",
    "print('vp1', vp1)\n",
    "print('s', s)"
   ]
  },
  {
   "cell_type": "code",
   "execution_count": 1647,
   "metadata": {
    "collapsed": false,
    "scrolled": true
   },
   "outputs": [
    {
     "name": "stdout",
     "output_type": "stream",
     "text": [
      "Coeffs\n",
      "3.91248e+28 -4.805501492e+22 1.63598376931e+16 -976924786.499\n",
      "Roots\n",
      "[  7.53818216e-08   5.44242769e-07   6.08624881e-07]\n",
      "s1P [ 0.00019952  0.00011519  0.00027456]\n",
      "s1T [ 0.00019952  0.00011519  0.00073773]\n",
      "s1S [ 0.00019952  0.00011519  0.00078014]\n"
     ]
    }
   ],
   "source": [
    "########################################\n",
    "# SLOWNESS VECTORS OF REFLECTED WAVES\n",
    "########################################\n",
    "\n",
    "# Compute the coefficients of the bicubic equation from the stiffness\n",
    "# matrix of the upper layer, density, and the two horizontal components\n",
    "# of slowness.\n",
    "A, B, C, D = monoclinic_bicubic_coeffs(s[0], s[1], p1, C1)\n",
    "\n",
    "# Input the computed coefficients and solve the bicubic polynomial\n",
    "z = np.sort(np.roots(np.array([A, B, C, D])))\n",
    "\n",
    "s1P = np.array([s[0], s[1], np.sqrt(np.abs(z[0]))])\n",
    "s1S = np.array([s[0], s[1], np.sqrt(np.abs(z[1]))])\n",
    "s1T = np.array([s[0], s[1], np.sqrt(np.abs(z[2]))])\n",
    "\n",
    "##### QC Output\n",
    "print('Coeffs')\n",
    "print(A, B, C, D)\n",
    "print('Roots')\n",
    "print(z)\n",
    "print('s1P', s1P)\n",
    "print('s1T', s1S)\n",
    "print('s1S', s1T)"
   ]
  },
  {
   "cell_type": "code",
   "execution_count": 1648,
   "metadata": {
    "collapsed": false
   },
   "outputs": [
    {
     "name": "stdout",
     "output_type": "stream",
     "text": [
      "s2P [ 0.00019952  0.00011519  0.0002779 ]\n",
      "s2T [ 0.00019952  0.00011519  0.00065939]\n",
      "s2S [ 0.00019952  0.00011519  0.00084074]\n"
     ]
    }
   ],
   "source": [
    "########################################\n",
    "# SLOWNESS VECTORS OF TRANSMITTED WAVES\n",
    "########################################\n",
    "\n",
    "# Compute the coefficients of the bicubic equation from the stiffness\n",
    "# matrix of the upper layer, density, and the two horizontal components\n",
    "# of slowness.\n",
    "A, B, C, D = monoclinic_bicubic_coeffs(s[0], s[1], p2, C2)\n",
    "\n",
    "# Input the computed coefficients and solve the bicubic polynomial\n",
    "z = np.sort(np.roots(np.array([A, B, C, D])))\n",
    "\n",
    "s2P = np.array([s[0], s[1], np.sqrt(np.abs(z[0]))])\n",
    "s2S = np.array([s[0], s[1], np.sqrt(np.abs(z[1]))])\n",
    "s2T = np.array([s[0], s[1], np.sqrt(np.abs(z[2]))])\n",
    "print('s2P', s2P)\n",
    "print('s2T', s2S)\n",
    "print('s2S', s2T)"
   ]
  },
  {
   "cell_type": "code",
   "execution_count": 1649,
   "metadata": {
    "collapsed": false
   },
   "outputs": [
    {
     "name": "stdout",
     "output_type": "stream",
     "text": [
      "CM1P [[ 815.94896974  219.48138705  457.40116402]\n",
      " [ 219.48138705  464.83762115  267.5595924 ]\n",
      " [ 457.40116402  267.5595924   815.30734418]]\n"
     ]
    }
   ],
   "source": [
    "########################################\n",
    "# POLARIZATION VECTORS OF REFLECTED WAVES\n",
    "########################################\n",
    "\n",
    "# Construct the Christoffel matrices for the three upper phases,\n",
    "# and compute the eigensystem of the matrices.\n",
    "\n",
    "##### REFLECTED QUASI-P PHASE\n",
    "CM1P = christoffel(C1, s1P)\n",
    "w, v = np.linalg.eig(CM1P)\n",
    "w = eigvec3symm(CM1P, p1)\n",
    "ev1P = w / np.abs(np.sqrt(w.dot(w)))\n",
    "\n",
    "##### REFLECTED QUASI-S PHASE\n",
    "CM1S = christoffel(C1, s1S)\n",
    "w, v = np.linalg.eig(CM1S)\n",
    "ev1S = w / np.abs(np.sqrt(w.dot(w)))\n",
    "\n",
    "##### REFLECTED QUASI-T PHASE\n",
    "CM1T = christoffel(C1, s1T)\n",
    "w, v = np.linalg.eig(CM1T-p1*np.identity(3))\n",
    "ev1T = w / np.abs(np.sqrt(w.dot(w)))\n",
    "\n",
    "# Match up quasi-SV and quasi-SH with the proper eigenvalues/eigenvectors\n",
    "if np.sum(ev1T*n) > np.sum(ev1S*n):\n",
    "    print('swapping upper shears')\n",
    "    foo = s1S\n",
    "    s1S = s1T\n",
    "    s1T = foo\n",
    "    \n",
    "    foo = ev1S\n",
    "    ev1S = ev1T\n",
    "    ev1T = foo\n",
    "    \n",
    "##### QC Output\n",
    "print('CM1P', CM1P)"
   ]
  },
  {
   "cell_type": "code",
   "execution_count": 1650,
   "metadata": {
    "collapsed": false
   },
   "outputs": [],
   "source": [
    "########################################\n",
    "# POLARIZATION VECTORS OF TRANSMITTED WAVES\n",
    "########################################\n",
    "\n",
    "##### LOWER LAYER P PHASE\n",
    "CM2P = christoffel(C2, s2P)\n",
    "w, v = np.linalg.eig(CM)\n",
    "ev2P = w / np.abs(np.sqrt(w.dot(w)))\n",
    "\n",
    "##### LOWER LAYER S PHASE\n",
    "CM2S = christoffel(C2, s2S)\n",
    "w, v = np.linalg.eig(CM)\n",
    "ev2S = w / np.abs(np.sqrt(w.dot(w)))\n",
    "\n",
    "##### LOWER LAYER T PHASE\n",
    "CM2T = christoffel(C2, s2T)\n",
    "w, v = np.linalg.eig(CM)\n",
    "ev2T = w / np.abs(np.sqrt(w.dot(w)))\n",
    "\n",
    "# Match up quasi-SV and quasi-SH with the proper eigenvalues/eigenvectors\n",
    "if np.sum(ev2T*n) > np.sum(ev2S*n):\n",
    "    print('swapping lower shears')\n",
    "    foo = s2S\n",
    "    s2S = s2T\n",
    "    s2T = foo\n",
    "    \n",
    "    foo = ev2S\n",
    "    ev2S = ev2T\n",
    "    ev2T = foo"
   ]
  },
  {
   "cell_type": "code",
   "execution_count": 1651,
   "metadata": {
    "collapsed": false
   },
   "outputs": [],
   "source": [
    "# Construct X, Y, X', and Y' impedance matrices\n",
    "\n",
    "##### UPPER MEDIUM\n",
    "X1 = np.zeros(shape=(3, 3))\n",
    "X1[0][0] = ev1P[0]\n",
    "X1[0][1] = ev1S[0]\n",
    "X1[0][2] = ev1T[0]\n",
    "X1[1][0] = ev1P[1]\n",
    "X1[1][1] = ev1S[1]\n",
    "X1[1][2] = ev1T[1]\n",
    "X1[2][0] = -(C1[0][2]+C1[2][5])*s1P[0] - (C1[1][2]+C1[2][5])*s1P[1] - C1[2][2]*ev1P[2]*s1P[2]\n",
    "X1[2][1] = -(C1[0][2]+C1[2][5])*s1S[0] - (C1[1][2]+C1[2][5])*s1S[1] - C1[2][2]*ev1S[2]*s1S[2]\n",
    "X1[2][2] = -(C1[0][2]+C1[2][5])*s1T[0] - (C1[1][2]+C1[2][5])*s1T[1] - C1[2][2]*ev1T[2]*s1T[2]\n",
    "\n",
    "Y1 = np.zeros(shape=(3, 3))\n",
    "Y1[0][0] = -(C1[4][4]*s1P[0] + C1[3][4]*s1P[1])*ev1P[2] - (C1[4][4]*ev1P[0] + C1[3][4]*ev1P[1])*s1P[2]\n",
    "Y1[0][1] = -(C1[4][4]*s1S[0] + C1[3][4]*s1S[1])*ev1S[2] - (C1[4][4]*ev1S[0] + C1[3][4]*ev1S[1])*s1S[2]\n",
    "Y1[0][2] = -(C1[4][4]*s1T[0] + C1[3][4]*s1T[1])*ev1T[2] - (C1[4][4]*ev1T[0] + C1[3][4]*ev1T[1])*s1T[2]\n",
    "Y1[1][0] = -(C1[3][4]*s1P[0] + C1[3][3]*s1P[1])*ev1P[2] - (C1[3][4]*ev1P[0] + C1[3][3]*ev1P[1])*s1P[2]\n",
    "Y1[1][1] = -(C1[3][4]*s1S[0] + C1[3][3]*s1S[1])*ev1S[2] - (C1[3][4]*ev1S[0] + C1[3][3]*ev1S[1])*s1S[2]\n",
    "Y1[1][2] = -(C1[3][4]*s1T[0] + C1[3][3]*s1T[1])*ev1T[2] - (C1[3][4]*ev1T[0] + C1[3][3]*ev1T[1])*s1T[2]\n",
    "Y1[2][0] = ev1P[2]\n",
    "Y1[2][1] = ev1S[2]\n",
    "Y1[2][2] = ev1T[2]\n",
    "\n",
    "##### LOWER MEDIUM\n",
    "X2 = np.zeros(shape=(3, 3))\n",
    "X2[0][0] = ev2P[0]\n",
    "X2[0][1] = ev2S[0]\n",
    "X2[0][2] = ev2T[0]\n",
    "X2[1][0] = ev2P[1]\n",
    "X2[1][1] = ev2S[1]\n",
    "X2[1][2] = ev2T[1]\n",
    "X2[2][0] = -(C2[0][2]+C2[2][5])*s2P[0] - (C2[1][2]+C2[2][5])*s2P[1] - C2[2][2]*ev2P[2]*s2P[2]\n",
    "X2[2][1] = -(C2[0][2]+C2[2][5])*s2S[0] - (C2[1][2]+C2[2][5])*s2S[1] - C2[2][2]*ev2S[2]*s2S[2]\n",
    "X2[2][2] = -(C2[0][2]+C2[2][5])*s2T[0] - (C2[1][2]+C2[2][5])*s2T[1] - C2[2][2]*ev2T[2]*s2T[2]\n",
    "\n",
    "Y2 = np.zeros(shape=(3, 3))\n",
    "Y2[0][0] = -(C2[4][4]*s2P[0] + C2[3][4]*s2P[1])*ev2P[2] - (C2[4][4]*ev2P[0] + C2[3][4]*ev2P[1])*s2P[2]\n",
    "Y2[0][1] = -(C2[4][4]*s2S[0] + C2[3][4]*s2S[1])*ev2S[2] - (C2[4][4]*ev2S[0] + C2[3][4]*ev2S[1])*s2S[2]\n",
    "Y2[0][2] = -(C2[4][4]*s2T[0] + C2[3][4]*s2T[1])*ev2T[2] - (C2[4][4]*ev2T[0] + C2[3][4]*ev2T[1])*s2T[2]\n",
    "Y2[1][0] = -(C2[3][4]*s2P[0] + C2[3][3]*s2P[1])*ev2P[2] - (C2[3][4]*ev2P[0] + C2[3][3]*ev2P[1])*s2P[2]\n",
    "Y2[1][1] = -(C2[3][4]*s2S[0] + C2[3][3]*s2S[1])*ev2S[2] - (C2[3][4]*ev2S[0] + C2[3][3]*ev2S[1])*s2S[2]\n",
    "Y2[1][2] = -(C2[3][4]*s2T[0] + C2[3][3]*s2T[1])*ev2T[2] - (C2[3][4]*ev2T[0] + C2[3][3]*ev2T[1])*s2T[2]\n",
    "Y2[2][0] = ev2P[2]\n",
    "Y2[2][1] = ev2S[2]\n",
    "Y2[2][2] = ev2T[2]"
   ]
  },
  {
   "cell_type": "code",
   "execution_count": 1653,
   "metadata": {
    "collapsed": false
   },
   "outputs": [
    {
     "name": "stdout",
     "output_type": "stream",
     "text": [
      "0.140960937553\n"
     ]
    }
   ],
   "source": [
    "# Solve the X, Y, X', Y' system of equations for the Zoeppritz reflection matrix R\n",
    "D = inv(X1)*X2 + inv(Y1)*Y2\n",
    "R = (inv(X1)*X2 - inv(Y1)*Y2)*inv(D)\n",
    "\n",
    "print(R[0][0])"
   ]
  }
 ],
 "metadata": {
  "kernelspec": {
   "display_name": "Python 3",
   "language": "python",
   "name": "python3"
  },
  "language_info": {
   "codemirror_mode": {
    "name": "ipython",
    "version": 3
   },
   "file_extension": ".py",
   "mimetype": "text/x-python",
   "name": "python",
   "nbconvert_exporter": "python",
   "pygments_lexer": "ipython3",
   "version": "3.4.3"
  }
 },
 "nbformat": 4,
 "nbformat_minor": 0
}
