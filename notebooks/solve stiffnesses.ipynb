{
 "cells": [
  {
   "cell_type": "code",
   "execution_count": 5,
   "metadata": {
    "collapsed": false
   },
   "outputs": [
    {
     "name": "stdout",
     "output_type": "stream",
     "text": [
      "[]\n",
      "Done Solve\n"
     ]
    }
   ],
   "source": [
    "import sympy\n",
    "\n",
    "e1, e2, d1, d2, y1, y2, d3 = sympy.symbols(\"e1 e2 d1 d2 y1 y2 d3\")\n",
    "c11, c22, c33, c44, c55, c66 = sympy.symbols(\"c11 c22 c33 c44 c55 c66\")\n",
    "c12, c13, c23 = sympy.symbols(\"c12 c13 c23\")\n",
    "\n",
    "e2 = (c11 - c33)/(2*c33)\n",
    "d2 = ((c13 + c55)**2 - (c33 - c55)**2) / (2*c33*(c33 - c55))\n",
    "y2 = (c66 - c44) / (2*c44)\n",
    "\n",
    "e1 = (c22 - c33)/(2*c33)\n",
    "d1 = ((c23 + c44)**2 - (c33 - c44)**2) / (2*c33*(c33 - c44))\n",
    "y2 = (c66 - c55) / (2*c55)\n",
    "\n",
    "S = sympy.solve([e2, d2, y2, e1, d1, y1], [c12])\n",
    "print(S)\n",
    "print('Done Solve')"
   ]
  }
 ],
 "metadata": {
  "kernelspec": {
   "display_name": "Python 3",
   "language": "python",
   "name": "python3"
  },
  "language_info": {
   "codemirror_mode": {
    "name": "ipython",
    "version": 3
   },
   "file_extension": ".py",
   "mimetype": "text/x-python",
   "name": "python",
   "nbconvert_exporter": "python",
   "pygments_lexer": "ipython3",
   "version": "3.4.3"
  }
 },
 "nbformat": 4,
 "nbformat_minor": 0
}
